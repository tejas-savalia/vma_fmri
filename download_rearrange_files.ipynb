{
 "cells": [
  {
   "cell_type": "code",
   "execution_count": 52,
   "metadata": {},
   "outputs": [],
   "source": [
    "# import datetime\n",
    "# import time\n",
    "import flywheel\n",
    "import pandas as pd\n",
    "import logging\n",
    "import zipfile, os, shutil\n",
    "import numpy as np"
   ]
  },
  {
   "cell_type": "code",
   "execution_count": 19,
   "metadata": {},
   "outputs": [],
   "source": [
    "#Get Client\n",
    "fw = flywheel.Client('flywheel.rc.colorado.edu:djEePPLCSOD8gbRQa7hoBvaPdGKDBtykGAMyorXcujMANwqQ77YPjyUIQ')\n",
    "fw.get_config().site.api_url\n",
    "\n",
    "# Instantiate a logger\n",
    "logging.basicConfig(level=logging.DEBUG, format='%(asctime)s %(levelname)s %(message)s')\n",
    "log = logging.getLogger('root')\n",
    "\n",
    "project_label = 'VMA'\n",
    "# Get the project\n",
    "project = fw.projects.find_one(f'label={project_label}')"
   ]
  },
  {
   "cell_type": "code",
   "execution_count": 20,
   "metadata": {},
   "outputs": [
    {
     "data": {
      "text/plain": [
       "{'age_groups': ['seniors'],\n",
       " 'file_types': [None,\n",
       "                'archive',\n",
       "                'dicom',\n",
       "                'tabular data',\n",
       "                'text',\n",
       "                'document',\n",
       "                'nifti',\n",
       "                'markup'],\n",
       " 'measurements': ['B0', 'BOLD', 'T2*', 'T1', 'T2'],\n",
       " 'modalities': ['MR'],\n",
       " 'number_of': {'acquisition_files': 1245,\n",
       "               'acquisitions': 408,\n",
       "               'analyses': 98,\n",
       "               'compliant_sessions': 0,\n",
       "               'files': 2363,\n",
       "               'jobs': 1031,\n",
       "               'sessions': 24,\n",
       "               'subjects': 24}}"
      ]
     },
     "execution_count": 20,
     "metadata": {},
     "output_type": "execute_result"
    }
   ],
   "source": [
    "project.stats."
   ]
  },
  {
   "cell_type": "code",
   "execution_count": 34,
   "metadata": {},
   "outputs": [],
   "source": [
    "analysis_list = []\n",
    "for s in project.sessions.find():\n",
    "    full_session = fw.get_session(s.id)\n",
    "    for analys in full_session.analyses:\n",
    "        if analys.gear_info.name == \"bids-feat\": #gear_info.name == 'bids-fmriprep' to download preprocessed files \n",
    "            analysis_list.append(analys.id)"
   ]
  },
  {
   "cell_type": "code",
   "execution_count": 35,
   "metadata": {},
   "outputs": [
    {
     "data": {
      "text/plain": [
       "['64e8f812a9f70014944a55ea',\n",
       " '64e917443482ad07372f1ca0',\n",
       " '64e917620397471e212f1cac',\n",
       " '64e917810397471e212f1cb0',\n",
       " '64e9179f27919747532f1d4c',\n",
       " '64e917bd27919747532f1d50',\n",
       " '64e917dbaea81c34f02f1cc5',\n",
       " '64e917fa0397471e212f1cb4',\n",
       " '64e9181827919747532f1d55',\n",
       " '64e9183627919747532f1d59',\n",
       " '64e91854aea81c34f02f1cc9',\n",
       " '64e9187327919747532f1d5e',\n",
       " '64e9189127919747532f1d62',\n",
       " '64e918afaea81c34f02f1ccd',\n",
       " '64e918cd27919747532f1d66',\n",
       " '64e918ec3482ad07372f1ca5',\n",
       " '64e9190a27919747532f1d6a',\n",
       " '64e919280397471e212f1cb8',\n",
       " '64e919463482ad07372f1ca9',\n",
       " '64e9196527919747532f1d6e',\n",
       " '64e919833482ad07372f1cae',\n",
       " '64e919a127919747532f1d72',\n",
       " '64ea41c93e46183de14a5658',\n",
       " '64e919c03482ad07372f1cb2']"
      ]
     },
     "execution_count": 35,
     "metadata": {},
     "output_type": "execute_result"
    }
   ],
   "source": []
  },
  {
   "cell_type": "code",
   "execution_count": 36,
   "metadata": {},
   "outputs": [],
   "source": [
    "path=\"/work/pi_rcowell_umass_edu/tsavalia/scratch/vma_fmri/feat/\"\n",
    "for cid in analysis_list:\n",
    "    analysis = fw.get_container(cid)\n",
    "    for fl in analysis.files:\n",
    "        fl.download(path+fl['name'])"
   ]
  },
  {
   "cell_type": "code",
   "execution_count": null,
   "metadata": {},
   "outputs": [],
   "source": []
  },
  {
   "cell_type": "code",
   "execution_count": null,
   "metadata": {},
   "outputs": [],
   "source": []
  },
  {
   "cell_type": "code",
   "execution_count": 6,
   "metadata": {},
   "outputs": [
    {
     "name": "stdout",
     "output_type": "stream",
     "text": [
      "sub started:  2\n",
      "sub started:  3\n",
      "sub started:  4\n",
      "sub started:  5\n",
      "sub started:  6\n",
      "sub started:  7\n",
      "sub started:  8\n",
      "sub started:  9\n",
      "sub started:  10\n",
      "sub started:  11\n",
      "sub started:  12\n",
      "sub started:  13\n",
      "sub started:  14\n",
      "sub started:  15\n",
      "sub started:  16\n",
      "sub started:  17\n",
      "sub started:  18\n",
      "sub started:  19\n",
      "sub started:  20\n",
      "sub started:  21\n",
      "sub started:  22\n",
      "sub started:  23\n",
      "sub started:  24\n"
     ]
    }
   ],
   "source": [
    "\n",
    "feat_files = os.listdir('feat/')\n",
    "for sub in range(2, 25):\n",
    "    print('sub started: ', sub)\n",
    "    z = zipfile.ZipFile('feat/'+feat_files[sub-1])\n",
    "    \n",
    "    os.mkdir(f'feat/sub-{str(sub).zfill(2)}')\n",
    "    z.extractall(f'feat/sub-{str(sub).zfill(2)}')    "
   ]
  },
  {
   "cell_type": "code",
   "execution_count": 29,
   "metadata": {},
   "outputs": [],
   "source": [
    "sub_dirs = [x for x in os.listdir('feat/') if x.startswith('sub')]"
   ]
  },
  {
   "cell_type": "code",
   "execution_count": 33,
   "metadata": {},
   "outputs": [],
   "source": [
    "for sub_dir in sub_dirs[1:]:\n",
    "    a = [x[0] for x in os.walk('feat/'+sub_dir)][4]\n",
    "    shutil.move(a, f'feat/{sub_dir}/')\n"
   ]
  },
  {
   "cell_type": "code",
   "execution_count": 47,
   "metadata": {},
   "outputs": [
    {
     "data": {
      "text/plain": [
       "'feat/sub-01/ses-S1'"
      ]
     },
     "execution_count": 47,
     "metadata": {},
     "output_type": "execute_result"
    }
   ],
   "source": [
    "shutil.move('feat/sub-01/sub-01/ses-S1', 'feat/sub-01/')"
   ]
  },
  {
   "cell_type": "code",
   "execution_count": 46,
   "metadata": {},
   "outputs": [
    {
     "data": {
      "text/plain": [
       "['ses-S1']"
      ]
     },
     "execution_count": 46,
     "metadata": {},
     "output_type": "execute_result"
    }
   ],
   "source": [
    "os.listdir('feat/sub-01/sub-01/')"
   ]
  },
  {
   "cell_type": "code",
   "execution_count": 53,
   "metadata": {},
   "outputs": [],
   "source": [
    "for sub_dir in sub_dirs[1:]:\n",
    "    subject = np.array([x for x in os.listdir(f'feat/{sub_dir}') if x.startswith('sub')])[0]\n",
    "    shutil.move(f'feat/{sub_dir}/{subject}/ses-S1', f'feat/{sub_dir}')"
   ]
  },
  {
   "cell_type": "code",
   "execution_count": null,
   "metadata": {},
   "outputs": [],
   "source": []
  }
 ],
 "metadata": {
  "kernelspec": {
   "display_name": "vma_fmri",
   "language": "python",
   "name": "python3"
  },
  "language_info": {
   "codemirror_mode": {
    "name": "ipython",
    "version": 3
   },
   "file_extension": ".py",
   "mimetype": "text/x-python",
   "name": "python",
   "nbconvert_exporter": "python",
   "pygments_lexer": "ipython3",
   "version": "3.11.5"
  },
  "orig_nbformat": 4
 },
 "nbformat": 4,
 "nbformat_minor": 2
}
