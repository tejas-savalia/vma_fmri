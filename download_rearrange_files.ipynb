{
 "cells": [
  {
   "cell_type": "code",
   "execution_count": 14,
   "metadata": {},
   "outputs": [],
   "source": [
    "# import datetime\n",
    "# import time\n",
    "# import pandas as pd\n",
    "import logging\n",
    "import zipfile, os, shutil\n",
    "# import numpy as np\n",
    "\n",
    "import flywheel\n"
   ]
  },
  {
   "cell_type": "code",
   "execution_count": 2,
   "metadata": {},
   "outputs": [],
   "source": [
    "# flywheel."
   ]
  },
  {
   "cell_type": "code",
   "execution_count": 4,
   "metadata": {},
   "outputs": [],
   "source": [
    "#Get Client\n",
    "fw = flywheel.Client('flywheel.rc.colorado.edu:djEePPLCSOD8gbRQa7hoBvaPdGKDBtykGAMyorXcujMANwqQ77YPjyUIQ')\n",
    "fw.get_config().site.api_url\n",
    "\n",
    "# Instantiate a logger\n",
    "logging.basicConfig(level=logging.DEBUG, format='%(asctime)s %(levelname)s %(message)s')\n",
    "log = logging.getLogger('root')\n",
    "\n",
    "project_label = 'VMA'\n",
    "# Get the project\n",
    "project = fw.projects.find_one(f'label={project_label}')"
   ]
  },
  {
   "cell_type": "code",
   "execution_count": 11,
   "metadata": {},
   "outputs": [],
   "source": [
    "# full_session.analyses"
   ]
  },
  {
   "cell_type": "code",
   "execution_count": 12,
   "metadata": {},
   "outputs": [],
   "source": [
    "analysis_list = []\n",
    "for s in project.sessions.find():\n",
    "    full_session = fw.get_session(s.id)\n",
    "    for analys in full_session.analyses:\n",
    "        if analys.gear_info.name == 'bids-fmriprep': # analys.gear_info.name == \"bids-feat\": #gear_info.name == 'bids-fmriprep' to download preprocessed files \n",
    "            analysis_list.append(analys.id)"
   ]
  },
  {
   "cell_type": "code",
   "execution_count": 14,
   "metadata": {},
   "outputs": [],
   "source": [
    "# analysis_list"
   ]
  },
  {
   "cell_type": "code",
   "execution_count": 16,
   "metadata": {},
   "outputs": [],
   "source": [
    "path=\"/work/pi_rcowell_umass_edu/tsavalia/scratch/vma_fmri/bids_fmriprep/\"\n",
    "for cid in analysis_list:\n",
    "    analysis = fw.get_container(cid)\n",
    "    for fl in analysis.files:\n",
    "        fl.download(path+fl['name'])"
   ]
  },
  {
   "cell_type": "code",
   "execution_count": null,
   "metadata": {},
   "outputs": [],
   "source": []
  },
  {
   "cell_type": "code",
   "execution_count": null,
   "metadata": {},
   "outputs": [],
   "source": []
  },
  {
   "cell_type": "code",
   "execution_count": 6,
   "metadata": {},
   "outputs": [
    {
     "name": "stdout",
     "output_type": "stream",
     "text": [
      "sub started:  2\n",
      "sub started:  3\n",
      "sub started:  4\n",
      "sub started:  5\n",
      "sub started:  6\n",
      "sub started:  7\n",
      "sub started:  8\n",
      "sub started:  9\n",
      "sub started:  10\n",
      "sub started:  11\n",
      "sub started:  12\n",
      "sub started:  13\n",
      "sub started:  14\n",
      "sub started:  15\n",
      "sub started:  16\n",
      "sub started:  17\n",
      "sub started:  18\n",
      "sub started:  19\n",
      "sub started:  20\n",
      "sub started:  21\n",
      "sub started:  22\n",
      "sub started:  23\n",
      "sub started:  24\n"
     ]
    }
   ],
   "source": [
    "\n",
    "feat_files = os.listdir('feat/')\n",
    "for sub in range(2, 25):\n",
    "    print('sub started: ', sub)\n",
    "    z = zipfile.ZipFile('feat/'+feat_files[sub-1])\n",
    "    \n",
    "    os.mkdir(f'feat/sub-{str(sub).zfill(2)}')\n",
    "    z.extractall(f'feat/sub-{str(sub).zfill(2)}')    "
   ]
  },
  {
   "cell_type": "code",
   "execution_count": 16,
   "metadata": {},
   "outputs": [
    {
     "name": "stdout",
     "output_type": "stream",
     "text": [
      "sub started:  15\n",
      "sub started:  16\n",
      "sub started:  17\n",
      "sub started:  18\n",
      "sub started:  19\n",
      "sub started:  20\n",
      "sub started:  21\n",
      "sub started:  22\n",
      "sub started:  23\n",
      "sub started:  24\n",
      "sub started:  25\n",
      "sub started:  26\n"
     ]
    }
   ],
   "source": [
    "# Extract fmriprep output files\n",
    "preproc_files = [f for f in os.listdir('bids_fmriprep/') if f.startswith('bids-fmriprep')]\n",
    "for sub in range(15, 27):\n",
    "    print('sub started: ', sub)\n",
    "    z = zipfile.ZipFile('bids_fmriprep/'+preproc_files[sub-15])\n",
    "    \n",
    "    os.makedirs(f'derivatives/sub-{str(sub).zfill(2)}')\n",
    "    z.extractall(f'derivatives/sub-{str(sub).zfill(2)}')    \n",
    "\n",
    "#After extraction, the relevant files have been manually moved \n",
    "#into the fmriprep_derivatives folder"
   ]
  },
  {
   "cell_type": "code",
   "execution_count": 1,
   "metadata": {},
   "outputs": [
    {
     "ename": "NameError",
     "evalue": "name 'os' is not defined",
     "output_type": "error",
     "traceback": [
      "\u001b[0;31m---------------------------------------------------------------------------\u001b[0m",
      "\u001b[0;31mNameError\u001b[0m                                 Traceback (most recent call last)",
      "Cell \u001b[0;32mIn[1], line 1\u001b[0m\n\u001b[0;32m----> 1\u001b[0m sub_dirs \u001b[38;5;241m=\u001b[39m [x \u001b[38;5;28;01mfor\u001b[39;00m x \u001b[38;5;129;01min\u001b[39;00m \u001b[43mos\u001b[49m\u001b[38;5;241m.\u001b[39mlistdir(\u001b[38;5;124m'\u001b[39m\u001b[38;5;124mbids_fmriprep/\u001b[39m\u001b[38;5;124m'\u001b[39m) \u001b[38;5;28;01mif\u001b[39;00m x\u001b[38;5;241m.\u001b[39mstartswith(\u001b[38;5;124m'\u001b[39m\u001b[38;5;124mbids-fmriprep\u001b[39m\u001b[38;5;124m'\u001b[39m)]\n",
      "\u001b[0;31mNameError\u001b[0m: name 'os' is not defined"
     ]
    }
   ],
   "source": [
    "sub_dirs = [x for x in os.listdir('bids_fmriprep/') if x.startswith('bids-fmriprep')]"
   ]
  },
  {
   "cell_type": "code",
   "execution_count": 33,
   "metadata": {},
   "outputs": [],
   "source": [
    "for sub_dir in sub_dirs[1:]:\n",
    "    a = [x[0] for x in os.walk('feat/'+sub_dir)][4]\n",
    "    shutil.move(a, f'feat/{sub_dir}/')\n"
   ]
  },
  {
   "cell_type": "code",
   "execution_count": 47,
   "metadata": {},
   "outputs": [
    {
     "data": {
      "text/plain": [
       "'feat/sub-01/ses-S1'"
      ]
     },
     "execution_count": 47,
     "metadata": {},
     "output_type": "execute_result"
    }
   ],
   "source": [
    "shutil.move('feat/sub-01/sub-01/ses-S1', 'feat/sub-01/')"
   ]
  },
  {
   "cell_type": "code",
   "execution_count": 46,
   "metadata": {},
   "outputs": [
    {
     "data": {
      "text/plain": [
       "['ses-S1']"
      ]
     },
     "execution_count": 46,
     "metadata": {},
     "output_type": "execute_result"
    }
   ],
   "source": [
    "os.listdir('feat/sub-01/sub-01/')"
   ]
  },
  {
   "cell_type": "code",
   "execution_count": 53,
   "metadata": {},
   "outputs": [],
   "source": [
    "for sub_dir in sub_dirs[1:]:\n",
    "    subject = np.array([x for x in os.listdir(f'feat/{sub_dir}') if x.startswith('sub')])[0]\n",
    "    shutil.move(f'feat/{sub_dir}/{subject}/ses-S1', f'feat/{sub_dir}')"
   ]
  },
  {
   "cell_type": "code",
   "execution_count": null,
   "metadata": {},
   "outputs": [],
   "source": []
  }
 ],
 "metadata": {
  "kernelspec": {
   "display_name": "Python [conda env:.conda-flywheel-env]",
   "language": "python",
   "name": "conda-env-.conda-flywheel-env-py"
  },
  "language_info": {
   "codemirror_mode": {
    "name": "ipython",
    "version": 3
   },
   "file_extension": ".py",
   "mimetype": "text/x-python",
   "name": "python",
   "nbconvert_exporter": "python",
   "pygments_lexer": "ipython3",
   "version": "3.11.10"
  }
 },
 "nbformat": 4,
 "nbformat_minor": 4
}
